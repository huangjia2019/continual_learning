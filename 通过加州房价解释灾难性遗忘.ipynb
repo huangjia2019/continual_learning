{
 "cells": [
  {
   "cell_type": "markdown",
   "metadata": {
    "id": "nf_dmKrevc8n"
   },
   "source": [
    "# 通过房价预测解释数据分布的变化和灾难性遗忘"
   ]
  },
  {
   "cell_type": "markdown",
   "metadata": {
    "id": "w4rRMckxv56C"
   },
   "source": [
    "\n",
    "在过去的几年里，许多论文已经表明，当随着时间的推移不断学习并且无法访问以前遇到的数据时，遗忘对神经网络的影响。 然而，用于描述该现象的许多示例都相当复杂，涉及数以千计甚至数百万个参数。\n",
    "\n",
    "在这个简短的笔记本中，我将尝试制作神经网络中灾难性遗忘的最简单示例，仅使用**一个神经元**和**两个参数**（权重和偏差项），即使用线性回归 .\n",
    "\n",
    "我们将建立在“*房价*”数据集和 Andrew Ng 著名的 Coursera“*机器学习*”课程中使用的示例之上，我们将：\n",
    "\n",
    "1. 建立持续学习环境\n",
    "2. 为线性回归模型显示理想的训练参数\n",
    "3. 显示改变数据分布时遗忘的影响\n",
    "\n"
   ]
  },
  {
   "cell_type": "code",
   "execution_count": null,
   "metadata": {
    "colab": {
     "base_uri": "https://localhost:8080/",
     "height": 74
    },
    "id": "gLd02AK3-Cvx",
    "outputId": "ef187806-3177-4154-d5cb-5d986887ed79"
   },
   "outputs": [],
   "source": [
    "import numpy as np\n",
    "import pandas as pd\n",
    "import seaborn as sns\n",
    "from pylab import rcParams\n",
    "import matplotlib.pyplot as plt\n",
    "import matplotlib.animation as animation\n",
    "from matplotlib import rc\n",
    "import unittest\n",
    "\n",
    "%matplotlib inline\n",
    "sns.set(style='whitegrid', palette='muted', font_scale=1.5)\n",
    "rcParams['figure.figsize'] = 14, 8\n",
    "rcParams['animation.embed_limit'] = 2**128\n",
    "\n",
    "RANDOM_SEED = 42\n",
    "np.random.seed(RANDOM_SEED)"
   ]
  },
  {
   "cell_type": "code",
   "execution_count": null,
   "metadata": {
    "colab": {
     "base_uri": "https://localhost:8080/",
     "height": 219
    },
    "id": "lsaJ3jzm-NqT",
    "outputId": "fce17c0c-b666-4692-a5ef-5d2308404109"
   },
   "outputs": [],
   "source": [
    "# !wget https://raw.githubusercontent.com/Data-Science-FMI/ml-from-scratch-2019/master/data/house_prices_train.csv"
   ]
  },
  {
   "cell_type": "markdown",
   "metadata": {
    "id": "4ao13HLI0CaQ"
   },
   "source": [
    "这是我们将要使用的数据集的摘要以及他的一些主要属性："
   ]
  },
  {
   "cell_type": "code",
   "execution_count": null,
   "metadata": {
    "colab": {
     "base_uri": "https://localhost:8080/",
     "height": 320
    },
    "id": "HXbItNAp-Sl4",
    "outputId": "82ff6bfc-e152-4c9a-b422-fd8bd1b63832"
   },
   "outputs": [],
   "source": [
    "df_train = pd.read_csv('house_prices_train.csv')\n",
    "df_train.describe()"
   ]
  },
  {
   "cell_type": "code",
   "execution_count": null,
   "metadata": {
    "colab": {
     "base_uri": "https://localhost:8080/",
     "height": 182
    },
    "id": "f474iZGU-jQi",
    "outputId": "2559fd4f-6991-4f94-f23f-e2d563a232f7"
   },
   "outputs": [],
   "source": [
    "df_train['SalePrice'].describe()"
   ]
  },
  {
   "cell_type": "code",
   "execution_count": null,
   "metadata": {
    "colab": {
     "base_uri": "https://localhost:8080/",
     "height": 315
    },
    "id": "Zi9XML6j-mgD",
    "outputId": "8f4b3cd5-2dec-48c2-9275-56357cc24872"
   },
   "outputs": [],
   "source": [
    "sns.distplot(df_train['SalePrice']);"
   ]
  },
  {
   "cell_type": "markdown",
   "metadata": {
    "id": "SgsbMXbV0X3b"
   },
   "source": [
    "Below we can see how the Living Room square feets nicely correlates with the House sale price:"
   ]
  },
  {
   "cell_type": "code",
   "execution_count": null,
   "metadata": {
    "colab": {
     "base_uri": "https://localhost:8080/",
     "height": 343
    },
    "id": "BmDRbK-f-q5-",
    "outputId": "a25a98bf-c8f8-4bd2-fc71-5646d2e34aa4"
   },
   "outputs": [],
   "source": [
    "var = 'GrLivArea'\n",
    "data = pd.concat([df_train['SalePrice'], df_train[var]], axis=1)\n",
    "data.plot.scatter(x=var, y='SalePrice', ylim=(0,800000), s=32);"
   ]
  },
  {
   "cell_type": "markdown",
   "metadata": {
    "id": "yWF861Pb0VSH"
   },
   "source": [
    "现在，为了创建一个持续学习设置，我们将数据集分成两部分，两个不同的批次：\n",
    " - 第一个在**2000 年之前**建造的房屋中，\n",
    " - 第二个在**2000 年之后**的房屋中。"
   ]
  },
  {
   "cell_type": "code",
   "execution_count": null,
   "metadata": {
    "id": "RJSW-VkS-wgL"
   },
   "outputs": [],
   "source": [
    "df_new = df_train[df_train.YearBuilt > 2000]\n",
    "df_old = df_train[df_train.YearBuilt <= 2000]"
   ]
  },
  {
   "cell_type": "code",
   "execution_count": null,
   "metadata": {
    "colab": {
     "base_uri": "https://localhost:8080/",
     "height": 320
    },
    "id": "iCoZWqk0BkqP",
    "outputId": "21394e3a-0884-42e0-dd65-15270d3e3286"
   },
   "outputs": [],
   "source": [
    "df_new.describe()"
   ]
  },
  {
   "cell_type": "code",
   "execution_count": null,
   "metadata": {
    "colab": {
     "base_uri": "https://localhost:8080/",
     "height": 320
    },
    "id": "dGVpIHlaBoAK",
    "outputId": "4b4236c3-a418-42e0-8651-aa87cfd57c8b"
   },
   "outputs": [],
   "source": [
    "df_old.describe()"
   ]
  },
  {
   "cell_type": "code",
   "execution_count": null,
   "metadata": {
    "colab": {
     "base_uri": "https://localhost:8080/",
     "height": 305
    },
    "id": "wA1JABtcAVUg",
    "outputId": "efe93d0d-9f41-473b-b963-b8d0570b21ff"
   },
   "outputs": [],
   "source": [
    "var = 'GrLivArea'\n",
    "data = pd.concat([df_train['SalePrice'], df_new[var]], axis=1)\n",
    "data.plot.scatter(x=var, y='SalePrice', ylim=(0,800000), s=32, color=\"orange\");"
   ]
  },
  {
   "cell_type": "code",
   "execution_count": null,
   "metadata": {
    "colab": {
     "base_uri": "https://localhost:8080/",
     "height": 305
    },
    "id": "GlkXZ6UuAp0m",
    "outputId": "32518102-6292-4085-f569-ee3b9e828b1b"
   },
   "outputs": [],
   "source": [
    "var = 'GrLivArea'\n",
    "data = pd.concat([df_train['SalePrice'], df_old[var]], axis=1)\n",
    "data.plot.scatter(x=var, y='SalePrice', ylim=(0,800000), s=32, color=\"blue\");"
   ]
  },
  {
   "cell_type": "markdown",
   "metadata": {
    "id": "zw3oXb5n1cdh"
   },
   "source": [
    "平均而言，最近的房子以更高的价格出售是有道理的。**当然新房子的整体价格会比较高一些**\n",
    "\n",
    "\n",
    "下面我们在整个训练集上训练我们的单个神经元的线性回归模型以获得最佳参数："
   ]
  },
  {
   "cell_type": "code",
   "execution_count": null,
   "metadata": {
    "colab": {
     "base_uri": "https://localhost:8080/",
     "height": 35
    },
    "id": "EeuZUP6oBvxE",
    "outputId": "46b751fb-a7d1-4e33-f50a-ab0a4175b387"
   },
   "outputs": [],
   "source": [
    "cumul_x = df_train['GrLivArea']\n",
    "cumul_y = df_train['SalePrice']\n",
    "\n",
    "# x = (x - x.mean()) / x.std()\n",
    "cumul_x = np.c_[np.ones(cumul_x.shape[0]), cumul_x] \n",
    "\n",
    "cumul_x.shape"
   ]
  },
  {
   "cell_type": "code",
   "execution_count": null,
   "metadata": {
    "id": "vzwLwYbWB8QQ"
   },
   "outputs": [],
   "source": [
    "def loss(h, y):\n",
    "  sq_error = (h - y)**2\n",
    "  n = len(y)\n",
    "  return 1.0 / (2*n) * sq_error.sum()"
   ]
  },
  {
   "cell_type": "code",
   "execution_count": null,
   "metadata": {
    "id": "EcUHRmkzB_ja"
   },
   "outputs": [],
   "source": [
    "class LinearRegression:\n",
    "\n",
    "  def __init__(self):\n",
    "    \n",
    "    self._W = np.zeros(2)\n",
    "    self._cost_history = []\n",
    "    self._w_history = [self._W]\n",
    "  \n",
    "  def predict(self, X):\n",
    "\n",
    "    return np.dot(X, self._W)\n",
    "  \n",
    "  def _gradient_descent_step(self, X, targets, lr):\n",
    "\n",
    "    predictions = self.predict(X)\n",
    "    \n",
    "    error = predictions - targets\n",
    "    gradient = np.dot(X.T,  error) / len(X)\n",
    "\n",
    "    self._W -= lr * gradient\n",
    "      \n",
    "  def fit(self, X, y, n_iter=100000, lr=0.01):\n",
    "\n",
    "    for i in range(n_iter):\n",
    "      \n",
    "        prediction = self.predict(X)\n",
    "        cost = loss(prediction, y)\n",
    "        \n",
    "        self._cost_history.append(cost)\n",
    "        \n",
    "        self._gradient_descent_step(X, y, lr)\n",
    "        \n",
    "        self._w_history.append(self._W.copy())\n",
    "        \n",
    "    return self\n",
    "      \n",
    "        "
   ]
  },
  {
   "cell_type": "code",
   "execution_count": null,
   "metadata": {
    "colab": {
     "base_uri": "https://localhost:8080/",
     "height": 35
    },
    "id": "MNzRv17VCCT1",
    "outputId": "7463da11-b9ef-4304-86ab-0a0038d7bf85"
   },
   "outputs": [],
   "source": [
    "cumul_clf = LinearRegression()\n",
    "cumul_clf.fit(cumul_x, cumul_y, n_iter=150, lr=1e-7)\n",
    "\n",
    "cumul_clf._W"
   ]
  },
  {
   "cell_type": "code",
   "execution_count": null,
   "metadata": {
    "colab": {
     "base_uri": "https://localhost:8080/",
     "height": 318
    },
    "id": "wCZC0SBqCKXG",
    "outputId": "ff7ece07-65a6-4fd4-f309-55ce50dfa8a1"
   },
   "outputs": [],
   "source": [
    "plt.title('Cost Function J')\n",
    "plt.xlabel('No. of iterations')\n",
    "plt.ylabel('Cost')\n",
    "plt.plot(cumul_clf._cost_history)\n",
    "plt.show()"
   ]
  },
  {
   "cell_type": "code",
   "execution_count": null,
   "metadata": {
    "id": "ILa_I0sZCQ5P"
   },
   "outputs": [],
   "source": [
    "#Animation\n",
    "def animate(clf, set_x, set_y, frames=150):\n",
    "    #Set the plot up,\n",
    "    fig = plt.figure()\n",
    "    ax = plt.axes()\n",
    "    plt.title('Sale Price vs Living Area')\n",
    "    plt.xlabel('Living Area in square feet')\n",
    "    plt.ylabel('Sale Price ($)')\n",
    "    if len(set_x) == 1:\n",
    "        plt.scatter(set_x[0][:,1], set_y[0])\n",
    "    else:\n",
    "        plt.scatter(set_x[0][:,1], set_y[0], color=\"blue\")\n",
    "        plt.scatter(set_x[1][:,1], set_y[1], color=\"orange\")\n",
    "    line, = ax.plot([], [], lw=2, color='red')\n",
    "    annotation = ax.text(200, 700000, '')\n",
    "    # optimal\n",
    "    x = np.linspace(0, 7000, 1000)\n",
    "    y = cumul_clf._W[1]*x + cumul_clf._W[0]\n",
    "    ax.plot(x, y, 'g--')\n",
    "    annotation.set_animated(True)\n",
    "    plt.close()\n",
    "\n",
    "    #Generate the animation data,\n",
    "    def init():\n",
    "        line.set_data([], [])\n",
    "        annotation.set_text('')\n",
    "        return line, annotation\n",
    "\n",
    "    # animation function.  This is called sequentially\n",
    "    def animate(i):\n",
    "        # x = np.linspace(-5, 20, 1000)\n",
    "        x = np.linspace(0, 7000, 1000)\n",
    "        y = clf._w_history[i][1]*x + clf._w_history[i][0]\n",
    "        line.set_data(x, y)\n",
    "        annotation.set_text(\n",
    "            'Cost = %.2f e10\\nWeight: %.2f\\nBias: %.2f' % \n",
    "            (clf._cost_history[i]/1e10, clf._w_history[i][1],\n",
    "             clf._w_history[i][0]))\n",
    "        return line, annotation\n",
    "\n",
    "    anim = animation.FuncAnimation(fig, animate, init_func=init,\n",
    "                                frames=frames, interval=10, blit=True)\n",
    "\n",
    "    rc('animation', html='jshtml')\n",
    "\n",
    "    return anim"
   ]
  },
  {
   "cell_type": "code",
   "execution_count": null,
   "metadata": {
    "colab": {
     "base_uri": "https://localhost:8080/",
     "height": 396
    },
    "id": "kfKjDrkkLsOv",
    "outputId": "8336bd12-2703-458d-d597-d6b8f287d824"
   },
   "outputs": [],
   "source": [
    "anim = animate(cumul_clf, [cumul_x], [cumul_y])\n",
    "anim"
   ]
  },
  {
   "cell_type": "markdown",
   "metadata": {
    "id": "KFr6FSxh2vuc"
   },
   "source": [
    "好的，所以这项工作的最佳参数是权重：9.94290254e-02 和偏差：1.18069042e+02。 这将在图中显示为绿色虚线。 现在让我们移动持续学习场景。\n",
    "\n",
    "在这种情况下，我们将从第一批数据（即包含所有旧房屋数据的批次）开始，然后，使用在此步骤计算的最佳参数，我们将尝试对第二批的数据（使用 最新房屋数据）。"
   ]
  },
  {
   "cell_type": "code",
   "execution_count": null,
   "metadata": {
    "colab": {
     "base_uri": "https://localhost:8080/",
     "height": 35
    },
    "id": "nETr8EHPGaon",
    "outputId": "f04b28eb-1661-4048-ad7e-de193941817a"
   },
   "outputs": [],
   "source": [
    "x_old = df_old['GrLivArea']\n",
    "y_old = df_old['SalePrice']\n",
    "\n",
    "x_old = np.c_[np.ones(x_old.shape[0]), x_old] \n",
    "\n",
    "x_old.shape"
   ]
  },
  {
   "cell_type": "code",
   "execution_count": null,
   "metadata": {
    "colab": {
     "base_uri": "https://localhost:8080/",
     "height": 35
    },
    "id": "Cz4jy4RyHxO7",
    "outputId": "17958d5e-8ddd-4483-cba6-394b08fb97a9"
   },
   "outputs": [],
   "source": [
    "x_new = df_new['GrLivArea']\n",
    "y_new = df_new['SalePrice']\n",
    "\n",
    "x_new = np.c_[np.ones(x_new.shape[0]), x_new] \n",
    "\n",
    "x_new.shape"
   ]
  },
  {
   "cell_type": "code",
   "execution_count": null,
   "metadata": {
    "colab": {
     "base_uri": "https://localhost:8080/",
     "height": 35
    },
    "id": "vK2LAMa7GxJ7",
    "outputId": "c1982655-0df3-4d44-f7e1-8216b50dc7f7"
   },
   "outputs": [],
   "source": [
    "cl_clf = LinearRegression()\n",
    "cl_clf.fit(x_old, y_old, n_iter=150, lr=1e-7)\n",
    "\n",
    "cl_clf._W"
   ]
  },
  {
   "cell_type": "code",
   "execution_count": null,
   "metadata": {
    "colab": {
     "base_uri": "https://localhost:8080/",
     "height": 396
    },
    "id": "IXnxe8VrG-4x",
    "outputId": "d44b9a62-2c22-43b2-ab86-1be3f9fc187a"
   },
   "outputs": [],
   "source": [
    "anim = animate(cl_clf, [x_old, x_new], [y_old, y_new])\n",
    "anim"
   ]
  },
  {
   "cell_type": "markdown",
   "metadata": {
    "id": "Ga4FQuFA4GOm"
   },
   "source": [
    "在上图中，我们可以看到该模型仅符合我们预期的旧房数据！ 让我们知道如果我们在最新的房屋批次上微调模型会发生什么！"
   ]
  },
  {
   "cell_type": "code",
   "execution_count": null,
   "metadata": {
    "colab": {
     "base_uri": "https://localhost:8080/",
     "height": 35
    },
    "id": "mdlKIIWNH28u",
    "outputId": "bbd2ebe1-467a-4717-aa07-670a7253bc90"
   },
   "outputs": [],
   "source": [
    "# cl_clf = LinearRegression()\n",
    "cl_clf.fit(x_new, y_new, n_iter=150, lr=1e-7)\n",
    "\n",
    "cl_clf._W"
   ]
  },
  {
   "cell_type": "code",
   "execution_count": null,
   "metadata": {
    "colab": {
     "base_uri": "https://localhost:8080/",
     "height": 318
    },
    "id": "t4y-ZpKTNgBs",
    "outputId": "1eb389de-ae10-42d5-8edd-56ca3be6fbe3"
   },
   "outputs": [],
   "source": [
    "plt.title('Cost Function J')\n",
    "plt.xlabel('No. of iterations')\n",
    "plt.ylabel('Cost')\n",
    "plt.plot(cl_clf._cost_history)\n",
    "plt.show()"
   ]
  },
  {
   "cell_type": "code",
   "execution_count": null,
   "metadata": {
    "colab": {
     "base_uri": "https://localhost:8080/",
     "height": 396
    },
    "id": "7U1jTkC2H82p",
    "outputId": "48ba1bc1-31d2-4e77-eb4b-1225edc5e7da"
   },
   "outputs": [],
   "source": [
    "anim = animate(cl_clf, [x_old, x_new], [y_old, y_new], frames=300)\n",
    "anim"
   ]
  },
  {
   "cell_type": "markdown",
   "metadata": {
    "id": "9sOOd-kq42hC"
   },
   "source": [
    "因此，我们从上图中可以看出，即使我们从上一步的最佳解决方案开始，我们的权重和偏差参数也会以某种方式被覆盖，只是为了适应最新房屋的新数据分布。\n",
    "\n",
    "在这里，我们基本上“*忘记*”了如何正确预测 2000 年之前建造的房屋的价格，只是为了更好地预测 2000 年之后建造的房屋的价格，尽管（这里的重点）确实存在更好和通用的参数化** ** 并且会减少总预测误差。\n",
    "\n",
    "我们如何在不访问先前遇到的数据的情况下有效地学习最佳参数化是持续学习的主要焦点之一。"
   ]
  },
  {
   "cell_type": "code",
   "execution_count": null,
   "metadata": {},
   "outputs": [],
   "source": []
  }
 ],
 "metadata": {
  "colab": {
   "collapsed_sections": [],
   "name": "simplest_forgetting_house",
   "provenance": []
  },
  "kernelspec": {
   "display_name": "Python 3 (ipykernel)",
   "language": "python",
   "name": "python3"
  },
  "language_info": {
   "codemirror_mode": {
    "name": "ipython",
    "version": 3
   },
   "file_extension": ".py",
   "mimetype": "text/x-python",
   "name": "python",
   "nbconvert_exporter": "python",
   "pygments_lexer": "ipython3",
   "version": "3.9.12"
  }
 },
 "nbformat": 4,
 "nbformat_minor": 1
}
